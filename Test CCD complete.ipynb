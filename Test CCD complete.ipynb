{
 "cells": [
  {
   "cell_type": "code",
   "execution_count": 1,
   "metadata": {},
   "outputs": [
    {
     "name": "stdout",
     "output_type": "stream",
     "text": [
      "warning in stationary: failed to import cython module: falling back to numpy\n"
     ]
    }
   ],
   "source": [
    "import numpy as np\n",
    "import matplotlib.pyplot as plt\n",
    "import GPy\n",
    "%matplotlib inline\n",
    "np.set_printoptions(suppress=True, precision=10)\n",
    "from paramz.transformations import Logexp\n",
    "import itertools\n",
    "\n",
    "class SimpleModel(GPy.Model):\n",
    "    def __init__(self, name, dims, priors=False):\n",
    "        super(SimpleModel, self).__init__(name)\n",
    "        self.params = []\n",
    "        self.peak_loc = range(1,dims+1,1)\n",
    "        for i,pos in enumerate(self.peak_loc):\n",
    "\n",
    "            p = GPy.Param('param%d' % i, 1.0)\n",
    "            self.params.append(p)\n",
    "            self.link_parameter(p)\n",
    "            if priors:\n",
    "                p.set_prior(GPy.priors.Gaussian(2.0, 3.0))\n",
    "    \n",
    "    def log_likelihood(self):\n",
    "        like = 0\n",
    "        for i,pos in enumerate(self.peak_loc):\n",
    "            like -= ((self.params[i])-pos)**2\n",
    "        return like[0]\n",
    "    \n",
    "    def parameters_changed(self):\n",
    "        for i,pos in enumerate(self.peak_loc):\n",
    "            self.params[i].gradient = -2*((self.params[i])-pos)\n",
    "            \n",
    "def find_likes(m,stepsize=0.4,rangemin=-7,rangemax=7):\n",
    "    \"\"\"\n",
    "    Numerical grid integral over model parameters\n",
    "    This function returns the sum of the objective\n",
    "    \"\"\"\n",
    "    m.optimize()\n",
    "    params = m.optimizer_array[None,:].copy()\n",
    "    param_ranges = []\n",
    "    for param in params[0]:\n",
    "        param_ranges.append(np.arange(rangemin,rangemax,stepsize))        \n",
    "    combs = itertools.product(*param_ranges)\n",
    "    lsum = 0\n",
    "    for el in combs:\n",
    "        lsum+=np.exp(-m._objective(el))\n",
    "    return lsum*(stepsize**len(params[0]))\n",
    "\n",
    "def monte_carlo_int(m,steps=1500):\n",
    "    \"\"\"\n",
    "    My quick and dirty monte carlo integration.\n",
    "    Returns a mean and the bounds of the 95%\n",
    "    confidence interval.\n",
    "    \"\"\"\n",
    "    m.optimize()\n",
    "    opt = m.optimizer_array[None,:].copy()\n",
    "    nparams = len(m.optimizer_array)\n",
    "    searchwidth = 8\n",
    "    V = searchwidth**nparams\n",
    "    # Take uniform random numbers searchwidth/2 either side\n",
    "    randnos = (np.random.rand(steps,nparams)-0.5)*searchwidth\n",
    "    #randnos[:,2]=0\n",
    "    # Spread the random points around the found maxima\n",
    "    test_params = randnos+opt.repeat(steps,0)[:]\n",
    "    tot = []\n",
    "    for i in range(steps):\n",
    "        # Evaluate the likelihood at all the test parameter points\n",
    "        tot.append(np.exp(-m._objective(test_params[i,:])))\n",
    "    \n",
    "    mean = V*np.mean(tot)\n",
    "    ste = V*np.std(tot)/np.sqrt(len(tot))\n",
    "    return mean,mean-ste*1.96,mean+ste*1.96,nparams"
   ]
  },
  {
   "cell_type": "code",
   "execution_count": 7,
   "metadata": {},
   "outputs": [
    {
     "ename": "AttributeError",
     "evalue": "'SimpleModel' object has no attribute '_log_marginal_likelihood'",
     "output_type": "error",
     "traceback": [
      "\u001b[0;31m---------------------------------------------------------------------------\u001b[0m",
      "\u001b[0;31mAttributeError\u001b[0m                            Traceback (most recent call last)",
      "\u001b[0;32m<ipython-input-7-da775764146e>\u001b[0m in \u001b[0;36m<module>\u001b[0;34m()\u001b[0m\n\u001b[0;32m----> 1\u001b[0;31m \u001b[0mm2\u001b[0m\u001b[0;34m.\u001b[0m\u001b[0m_log_marginal_likelihood\u001b[0m\u001b[0;34m\u001b[0m\u001b[0m\n\u001b[0m",
      "\u001b[0;31mAttributeError\u001b[0m: 'SimpleModel' object has no attribute '_log_marginal_likelihood'"
     ]
    }
   ],
   "source": [
    "m2._log_marginal_likelihood"
   ]
  },
  {
   "cell_type": "code",
   "execution_count": 4,
   "metadata": {
    "scrolled": false
   },
   "outputs": [
    {
     "name": "stdout",
     "output_type": "stream",
     "text": [
      "====Simple model(no priors)====\n",
      "==1 dimensions==\n",
      "CCD weights:\n",
      "[[ 0.4350346592]\n",
      " [ 2.9067495379]\n",
      " [ 2.9067495379]\n",
      " [ 2.9067495379]\n",
      " [ 2.9067495379]]\n",
      "Weighted CCD approximation\n",
      "0.607839677443\n",
      "Numerical approximation\n",
      "1.77245385091\n",
      "laplace approximation\n",
      "1.77245385091\n",
      "==2 dimensions==\n",
      "CCD weights:\n",
      "[[ 1.0904701773]\n",
      " [ 2.2812820766]\n",
      " [ 2.2812820766]\n",
      " [ 2.2812820766]\n",
      " [ 2.2812820766]\n",
      " [ 2.2812820766]\n",
      " [ 2.2812820766]\n",
      " [ 2.2812820766]\n",
      " [ 2.2812820766]]\n",
      "Weighted CCD approximation\n",
      "0.407136033309\n",
      "Numerical approximation\n",
      "3.14159391487\n",
      "laplace approximation\n",
      "3.14159265359\n",
      "==3 dimensions==\n",
      "CCD weights:\n",
      "[[ 2.733403379 ]\n",
      " [ 2.2494784533]\n",
      " [ 2.2494784533]\n",
      " [ 2.2494784533]\n",
      " [ 2.2494784533]\n",
      " [ 2.2494784533]\n",
      " [ 2.2494784533]\n",
      " [ 2.2494784533]\n",
      " [ 2.2494784533]\n",
      " [ 2.2494784533]\n",
      " [ 2.2494784533]\n",
      " [ 2.2494784533]\n",
      " [ 2.2494784533]\n",
      " [ 2.2494784533]\n",
      " [ 2.2494784533]]\n",
      "Weighted CCD approximation\n",
      "0.299445948444\n",
      "Numerical approximation\n",
      "5.54485305233\n",
      "laplace approximation\n",
      "5.56832799683\n",
      "==4 dimensions==\n",
      "CCD weights:\n",
      "[[ 6.8516261958]\n",
      " [ 2.3283352619]\n",
      " [ 2.3283352619]\n",
      " [ 2.3283352619]\n",
      " [ 2.3283352619]\n",
      " [ 2.3283352619]\n",
      " [ 2.3283352619]\n",
      " [ 2.3283352619]\n",
      " [ 2.3283352619]\n",
      " [ 2.3283352619]\n",
      " [ 2.3283352619]\n",
      " [ 2.3283352619]\n",
      " [ 2.3283352619]\n",
      " [ 2.3283352619]\n",
      " [ 2.3283352619]\n",
      " [ 2.3283352619]\n",
      " [ 2.3283352619]\n",
      " [ 2.3283352619]\n",
      " [ 2.3283352619]\n",
      " [ 2.3283352619]\n",
      " [ 2.3283352619]\n",
      " [ 2.3283352619]\n",
      " [ 2.3283352619]\n",
      " [ 2.3283352619]\n",
      " [ 2.3283352619]]\n",
      "Weighted CCD approximation\n",
      "0.241558058239\n",
      "Numerical approximation\n",
      "10.2781187734\n",
      "laplace approximation\n",
      "9.86960440109\n",
      "====Simple model(with priors)====\n",
      "==1 dimensions==\n",
      "CCD weights:\n",
      "[[ 0.4350346592]\n",
      " [ 2.9067495379]\n",
      " [ 2.9067495379]\n",
      " [ 2.9067495379]\n",
      " [ 2.9067495379]]\n",
      "Weighted CCD approximation\n",
      "0.0743797554377\n",
      "Numerical approximation\n",
      "0.217653469903\n",
      "laplace approximation\n",
      "0.217653469903\n",
      "==2 dimensions==\n",
      "CCD weights:\n",
      "[[ 1.0904701773]\n",
      " [ 2.2812820766]\n",
      " [ 2.2812820766]\n",
      " [ 2.2812820766]\n",
      " [ 2.2812820766]\n",
      " [ 2.2812820766]\n",
      " [ 2.2812820766]\n",
      " [ 2.2812820766]\n",
      " [ 2.2812820766]]\n",
      "Weighted CCD approximation\n",
      "0.00654563795708\n",
      "Numerical approximation\n",
      "0.0499331718636\n",
      "laplace approximation\n",
      "0.0499331305272\n",
      "==3 dimensions==\n",
      "CCD weights:\n",
      "[[ 2.733403379 ]\n",
      " [ 2.2494784533]\n",
      " [ 2.2494784533]\n",
      " [ 2.2494784533]\n",
      " [ 2.2494784533]\n",
      " [ 2.2494784533]\n",
      " [ 2.2494784533]\n",
      " [ 2.2494784533]\n",
      " [ 2.2494784533]\n",
      " [ 2.2494784533]\n",
      " [ 2.2494784533]\n",
      " [ 2.2494784533]\n",
      " [ 2.2494784533]\n",
      " [ 2.2494784533]\n",
      " [ 2.2494784533]]\n",
      "Weighted CCD approximation\n",
      "0.000606690005852\n",
      "Numerical approximation\n",
      "0.0108191160281\n",
      "laplace approximation\n",
      "0.0108681191223\n",
      "==4 dimensions==\n",
      "CCD weights:\n",
      "[[ 6.8516261958]\n",
      " [ 2.3283352619]\n",
      " [ 2.3283352619]\n",
      " [ 2.3283352619]\n",
      " [ 2.3283352619]\n",
      " [ 2.3283352619]\n",
      " [ 2.3283352619]\n",
      " [ 2.3283352619]\n",
      " [ 2.3283352619]\n",
      " [ 2.3283352619]\n",
      " [ 2.3283352619]\n",
      " [ 2.3283352619]\n",
      " [ 2.3283352619]\n",
      " [ 2.3283352619]\n",
      " [ 2.3283352619]\n",
      " [ 2.3283352619]\n",
      " [ 2.3283352619]\n",
      " [ 2.3283352619]\n",
      " [ 2.3283352619]\n",
      " [ 2.3283352619]\n",
      " [ 2.3283352619]\n",
      " [ 2.3283352619]\n",
      " [ 2.3283352619]\n",
      " [ 2.3283352619]\n",
      " [ 2.3283352619]]\n",
      "Weighted CCD approximation\n",
      "5.3395606697e-05\n",
      "Numerical approximation\n",
      "0.00210537950607\n",
      "laplace approximation\n",
      "0.00201998047791\n"
     ]
    }
   ],
   "source": [
    "for priors in [False, True]:\n",
    "    print(\"====Simple model\",end='')\n",
    "    if priors:\n",
    "        print(\"(with priors)====\")\n",
    "    else:\n",
    "        print(\"(no priors)====\")\n",
    "    for dims in range(1,5):        \n",
    "        print(\"==%d dimensions==\" % dims)\n",
    "        stepsize=0.4*dims #make step size bigger as dims goes up so this isn't too slow\n",
    "        m2 = SimpleModel('simple',dims,priors)\n",
    "        numsum = find_likes(m2,stepsize)\n",
    "        m2.optimize()\n",
    "        hes = m2.numerical_parameter_hessian()\n",
    "        m2.optimize()\n",
    "        #hessum = np.exp(m2.log_likelihood())*1/np.sqrt(np.linalg.det(1/(2*np.pi)*hes))\n",
    "        hessum = np.exp(-m2._objective(m2.param_array))*1/np.sqrt(np.linalg.det(1/(2*np.pi)*hes))\n",
    "        ccdpos,ccddensity,scalings,z,ccd_weights = m2.CCD()\n",
    "        tot = 0\n",
    "        print(\"CCD weights:\")\n",
    "        print(ccd_weights)\n",
    "        for pos,dens,weights in zip(ccdpos,ccddensity,ccd_weights):\n",
    "            m2.param_array[:] = pos\n",
    "            tot += dens * np.exp(-m2.log_likelihood())\n",
    "            #print(den, m2.param_array[:], -m2.log_likelihood(), len(pos))\n",
    "            #tot += weights*dens\n",
    "            #tot+= dens*np.exp(-m2._objective(pos))\n",
    "        print(\"Weighted CCD approximation\")\n",
    "        print(tot)\n",
    "        print(\"Numerical approximation\")\n",
    "        print(numsum)\n",
    "        print(\"laplace approximation\")\n",
    "        print(hessum)\n",
    "        #print(\"Monte carlo\")\n",
    "        #print(monte_carlo_int(m2))\n",
    "        #assert np.isclose(hessum,numsum,rtol=0.3), \"Simple Model: Laplace approximation using numerical_parameter_hessian()=%0.4f not equal to numerical grid sum=%0.4f\" % (hessum,numsum)"
   ]
  },
  {
   "cell_type": "code",
   "execution_count": 8,
   "metadata": {},
   "outputs": [
    {
     "data": {
      "text/plain": [
       "10.805992761175339"
      ]
     },
     "execution_count": 8,
     "metadata": {},
     "output_type": "execute_result"
    }
   ],
   "source": [
    "m2._objective(m2.param_array)"
   ]
  },
  {
   "cell_type": "code",
   "execution_count": 10,
   "metadata": {},
   "outputs": [
    {
     "data": {
      "text/plain": [
       "-8.1779735586560207"
      ]
     },
     "execution_count": 10,
     "metadata": {},
     "output_type": "execute_result"
    }
   ],
   "source": [
    "m2.log_prior()"
   ]
  },
  {
   "cell_type": "code",
   "execution_count": 9,
   "metadata": {},
   "outputs": [
    {
     "data": {
      "text/plain": [
       "-2.6280192025193192"
      ]
     },
     "execution_count": 9,
     "metadata": {},
     "output_type": "execute_result"
    }
   ],
   "source": [
    "m2.log_likelihood()"
   ]
  },
  {
   "cell_type": "code",
   "execution_count": 3,
   "metadata": {},
   "outputs": [],
   "source": [
    "import matplotlib.pyplot as plt\n",
    "%matplotlib inline"
   ]
  },
  {
   "cell_type": "code",
   "execution_count": 4,
   "metadata": {},
   "outputs": [],
   "source": [
    "num_test_points = 50\n",
    "test_ps = np.linspace(-4,4,num_test_points)\n",
    "lls = np.zeros(num_test_points)\n",
    "for i, t in enumerate(test_ps):\n",
    "    #m2.param_array[:] = t\n",
    "    lls[i] = np.exp(-m2._objective(t))"
   ]
  },
  {
   "cell_type": "code",
   "execution_count": 5,
   "metadata": {},
   "outputs": [
    {
     "data": {
      "text/plain": [
       "array([ 0.173553719 ,  0.1033057851,  0.1033057851,  0.1033057851,\n",
       "        0.1033057851,  0.1033057851,  0.1033057851,  0.1033057851,\n",
       "        0.1033057851])"
      ]
     },
     "execution_count": 5,
     "metadata": {},
     "output_type": "execute_result"
    }
   ],
   "source": [
    "ccddensity\n"
   ]
  },
  {
   "cell_type": "code",
   "execution_count": 6,
   "metadata": {},
   "outputs": [
    {
     "name": "stdout",
     "output_type": "stream",
     "text": [
      "Num free parameters: 2 used_walsh_inds: [1 2] ccd_points: [[ 0.  0.]\n",
      " [ 1.  1.]\n",
      " [-1.  1.]\n",
      " [ 1. -1.]\n",
      " [-1. -1.]]\n",
      "ccd_points after adding non-corners: [[ 0.            0.          ]\n",
      " [ 1.            1.          ]\n",
      " [-1.            1.          ]\n",
      " [ 1.           -1.          ]\n",
      " [-1.           -1.          ]\n",
      " [ 1.4142135624  0.          ]\n",
      " [-1.4142135624  0.          ]\n",
      " [ 0.            1.4142135624]\n",
      " [ 0.           -1.4142135624]]\n",
      "New j: 0\n",
      "0\n",
      "[[ 1.  0.]]\n",
      "New j: 1\n",
      "0\n",
      "[[-1.  0.]]\n",
      "New j: 2\n",
      "1\n",
      "[[ 0.  1.]]\n",
      "New j: 3\n",
      "1\n",
      "[[ 0. -1.]]\n",
      "[[ 1.  1.]\n",
      " [ 1.  1.]\n",
      " [ 1.  1.]\n",
      " [ 1.  1.]\n",
      " [ 1.  1.]\n",
      " [ 1.  1.]\n",
      " [ 1.  1.]\n",
      " [ 1.  1.]\n",
      " [ 1.  1.]]\n",
      "centre weight: 1.0904701772791023\n",
      "weights\n",
      "1.99612181699\n",
      "not weights\n",
      "[ 1.  2.]\n",
      "[ 1.7778174593  2.7778174593]\n",
      "[ 0.2221825407  2.7778174593]\n",
      "[ 1.7778174593  1.2221825407]\n",
      "[ 0.2221825407  1.2221825407]\n",
      "[ 2.1  2. ]\n",
      "[-0.1  2. ]\n",
      "[ 1.   3.1]\n",
      "[ 1.   0.9]\n"
     ]
    },
    {
     "data": {
      "text/plain": [
       "<matplotlib.collections.LineCollection at 0x7ff505b70b70>"
      ]
     },
     "execution_count": 6,
     "metadata": {},
     "output_type": "execute_result"
    },
    {
     "data": {
      "image/png": "[encoded data removed]",
      "text/plain": [
       "<matplotlib.figure.Figure at 0x7ff500605da0>"
      ]
     },
     "metadata": {},
     "output_type": "display_data"
    }
   ],
   "source": [
    "m2.optimize()\n",
    "ccdpos,ccddensity,scalings,z = m2.CCD()\n",
    "tot = 0\n",
    "\n",
    "for pos,den in zip(ccdpos,ccddensity):\n",
    "    print(pos)\n",
    "    m2.param_array[:] = pos\n",
    "    tot += den * np.exp(-m2.log_likelihood())\n",
    "    #print(den, m2.param_array[:], -m2.log_likelihood(), len(pos))\n",
    "    #plt.plot(pos,m2.log_likelihood(),'x')\n",
    "    \n",
    "plt.plot(test_ps, lls)\n",
    "plt.vlines(ccdpos, ymin=0,ymax=1)"
   ]
  },
  {
   "cell_type": "code",
   "execution_count": 7,
   "metadata": {},
   "outputs": [
    {
     "data": {
      "text/plain": [
       "array([[ 1.,  1.],\n",
       "       [ 1.,  1.],\n",
       "       [ 1.,  1.],\n",
       "       [ 1.,  1.],\n",
       "       [ 1.,  1.],\n",
       "       [ 1.,  1.],\n",
       "       [ 1.,  1.],\n",
       "       [ 1.,  1.],\n",
       "       [ 1.,  1.]])"
      ]
     },
     "execution_count": 7,
     "metadata": {},
     "output_type": "execute_result"
    }
   ],
   "source": [
    "scalings"
   ]
  },
  {
   "cell_type": "code",
   "execution_count": 8,
   "metadata": {},
   "outputs": [
    {
     "data": {
      "text/plain": [
       "array([ 1. ,  0.9])"
      ]
     },
     "execution_count": 8,
     "metadata": {},
     "output_type": "execute_result"
    }
   ],
   "source": [
    "m2.optimizer_array[:]"
   ]
  },
  {
   "cell_type": "code",
   "execution_count": 9,
   "metadata": {},
   "outputs": [
    {
     "name": "stdout",
     "output_type": "stream",
     "text": [
      "====GP model====\n",
      "Num free parameters: 2 used_walsh_inds: [1 2] ccd_points: [[ 0.  0.]\n",
      " [ 1.  1.]\n",
      " [-1.  1.]\n",
      " [ 1. -1.]\n",
      " [-1. -1.]]\n",
      "ccd_points after adding non-corners: [[ 0.            0.          ]\n",
      " [ 1.            1.          ]\n",
      " [-1.            1.          ]\n",
      " [ 1.           -1.          ]\n",
      " [-1.           -1.          ]\n",
      " [ 1.4142135624  0.          ]\n",
      " [-1.4142135624  0.          ]\n",
      " [ 0.            1.4142135624]\n",
      " [ 0.           -1.4142135624]]\n",
      "New j: 0\n",
      "0\n",
      "[[ 1.  0.]]\n",
      "New j: 1\n",
      "0\n",
      "[[-1.  0.]]\n",
      "New j: 2\n",
      "1\n",
      "[[ 0.  1.]]\n",
      "New j: 3\n",
      "1\n",
      "[[ 0. -1.]]\n",
      "[[ 1.            1.          ]\n",
      " [ 0.8938506289  0.7606041591]\n",
      " [ 1.1772606214  0.7606041591]\n",
      " [ 0.8938506289  1.1079997103]\n",
      " [ 1.1772606214  1.1079997103]\n",
      " [ 0.8938506289  1.          ]\n",
      " [ 1.1772606214  1.          ]\n",
      " [ 1.            0.7606041591]\n",
      " [ 1.            1.1079997103]]\n",
      "weights\n",
      "1.99612181699\n",
      "not weights\n",
      "Weighted sum\n",
      "9.41652039484e-15\n",
      "Laplace\n",
      "3.18673086192e-13\n",
      "Numerical approx\n",
      "4.34596508534e-13\n",
      "Monte Carlo\n",
      "(3.2322375597773238e-13, 3.0474731347888824e-13, 3.4170019847657652e-13, 2)\n"
     ]
    }
   ],
   "source": [
    "print(\"====GP model====\")\n",
    "#Test numerical_parameter_hessian gives us the right integral for a more complex GP model\n",
    "#sample data\n",
    "X = np.arange(0,40,1)[:,None]\n",
    "Y = np.sin(X/5)+np.random.randn(X.shape[0],X.shape[1])*0.1\n",
    "k = GPy.kern.RBF(1)\n",
    "\n",
    "#create model and optimise\n",
    "m2 = GPy.models.GPRegression(X,Y,k)\n",
    "m2.Gaussian_noise.fix(0.5)\n",
    "m2.optimize()\n",
    "\n",
    "m2.numerical_parameter_hessian()\n",
    "dims = 2 #equals the number of unfixed parameters\n",
    "stepsize=0.3\n",
    "numsum = find_likes(m2,stepsize,rangemin=0.0001,rangemax=20)\n",
    "m2.optimize()\n",
    "hes = m2.numerical_parameter_hessian()\n",
    "hessum = np.exp(m2.log_likelihood())*1/np.sqrt(np.linalg.det(1/(2*np.pi)*hes))\n",
    "#assert np.isclose(hessum,numsum,rtol=0.1,atol=0), \"GP Model: Laplace approximation using numerical_parameter_hessian()=%0.4f not equal to numerical grid sum=%0.4f\" % (hessum,numsum)\n",
    "\n",
    "m2.optimize()\n",
    "ccdpos,ccdres,scalings,z = m2.CCD()\n",
    "tot = 0\n",
    "for i, res in enumerate(ccdres):\n",
    "    #tot += res * np.exp(-m2.log_likelihood())\n",
    "    \n",
    "    tot+= res*np.exp(-m2._objective(ccdpos[i,:]))\n",
    "    \n",
    "    #m2.param_array[:] = ccdpos[i,:]\n",
    "    #tot += res * np.exp(m2.log_likelihood())\n",
    "print(\"Weighted sum\")\n",
    "print(tot)\n",
    "print(\"Laplace\")\n",
    "print(hessum)\n",
    "print(\"Numerical approx\")\n",
    "print(numsum)\n",
    "print(\"Monte Carlo\")\n",
    "print(monte_carlo_int(m2))"
   ]
  },
  {
   "cell_type": "code",
   "execution_count": 10,
   "metadata": {},
   "outputs": [
    {
     "name": "stdout",
     "output_type": "stream",
     "text": [
      "[[ 1.  0.  0.]]\n",
      "[[-1.  0.  0.]]\n",
      "[[ 0.  1.  0.]]\n",
      "[[ 0. -1.  0.]]\n",
      "[[ 0.  0.  1.]]\n",
      "[[ 0.  0. -1.]]\n"
     ]
    }
   ],
   "source": [
    "num_free_params = 3\n",
    "for j in range(num_free_params*2):\n",
    "    temp = np.zeros((1, num_free_params))\n",
    "    if j % 2:\n",
    "        direction = -1\n",
    "    else:\n",
    "        direction = 1\n",
    "    ind = int(np.ceil(j // 2))  # This integer division is required, will not work with python 3\n",
    "    temp[0, ind] = direction\n",
    "    print(temp)"
   ]
  },
  {
   "cell_type": "code",
   "execution_count": 11,
   "metadata": {},
   "outputs": [
    {
     "data": {
      "text/plain": [
       "array([[ 0.,  0., -1.]])"
      ]
     },
     "execution_count": 11,
     "metadata": {},
     "output_type": "execute_result"
    }
   ],
   "source": [
    "temp"
   ]
  },
  {
   "cell_type": "code",
   "execution_count": null,
   "metadata": {
    "collapsed": true
   },
   "outputs": [],
   "source": []
  }
 ],
 "metadata": {
  "kernelspec": {
   "display_name": "Python 3",
   "language": "python",
   "name": "python3"
  },
  "language_info": {
   "codemirror_mode": {
    "name": "ipython",
    "version": 3
   },
   "file_extension": ".py",
   "mimetype": "text/x-python",
   "name": "python",
   "nbconvert_exporter": "python",
   "pygments_lexer": "ipython3",
   "version": "3.6.1"
  }
 },
 "nbformat": 4,
 "nbformat_minor": 1
}
